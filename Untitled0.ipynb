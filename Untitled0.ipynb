{
  "nbformat": 4,
  "nbformat_minor": 0,
  "metadata": {
    "colab": {
      "provenance": [],
      "authorship_tag": "ABX9TyPaH6/cmH2td6spKkGtljP6",
      "include_colab_link": true
    },
    "kernelspec": {
      "name": "python3",
      "display_name": "Python 3"
    },
    "language_info": {
      "name": "python"
    }
  },
  "cells": [
    {
      "cell_type": "markdown",
      "metadata": {
        "id": "view-in-github",
        "colab_type": "text"
      },
      "source": [
        "<a href=\"https://colab.research.google.com/github/aka1209/python-basic-kadai/blob/main/Untitled0.ipynb\" target=\"_parent\"><img src=\"https://colab.research.google.com/assets/colab-badge.svg\" alt=\"Open In Colab\"/></a>"
      ]
    },
    {
      "cell_type": "code",
      "source": [
        "top_area = 10\n",
        "under_area = 20\n",
        "height = 5\n",
        "unit = \"㎠\"\n",
        "\n",
        "print(str((top_area + under_area) * height / 2) + unit)"
      ],
      "metadata": {
        "id": "wbJt_4eoUgZr",
        "colab": {
          "base_uri": "https://localhost:8080/"
        },
        "outputId": "644ba819-01b6-41ae-be3a-e7dc40050593"
      },
      "execution_count": 1,
      "outputs": [
        {
          "output_type": "stream",
          "name": "stdout",
          "text": [
            "75.0㎠\n"
          ]
        }
      ]
    }
  ]
}